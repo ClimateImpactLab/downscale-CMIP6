{
 "cells": [
  {
   "cell_type": "markdown",
   "metadata": {},
   "source": [
    "**Step 1: Download ERA5 2-m temperature or total precipitation from CDS website. "
   ]
  },
  {
   "cell_type": "code",
   "execution_count": null,
   "metadata": {},
   "outputs": [],
   "source": [
    "%matplotlib inline\n",
    "import xarray as xr\n",
    "import numpy as np \n",
    "import matplotlib.pyplot as plt\n",
    "import os\n",
    "import pandas as pd\n",
    "from datetime import datetime, timedelta, date\n",
    "\n",
    "import dask\n",
    "import dask.array as dda\n",
    "import dask.distributed as dd\n",
    "\n",
    "# rhodium-specific kubernetes cluster configuration\n",
    "import rhg_compute_tools.kubernetes as rhgk"
   ]
  },
  {
   "cell_type": "code",
   "execution_count": null,
   "metadata": {},
   "outputs": [],
   "source": [
    " # install copernicus API to create client instances\n",
    "# !pip install cdsapi \n",
    "import cdsapi "
   ]
  },
  {
   "cell_type": "code",
   "execution_count": null,
   "metadata": {},
   "outputs": [],
   "source": [
    "client, cluster = rhgk.get_micro_cluster(extra_pip_packages='cdsapi')\n",
    "# cluster.scale(0)"
   ]
  },
  {
   "cell_type": "code",
   "execution_count": null,
   "metadata": {},
   "outputs": [],
   "source": [
    "cluster"
   ]
  },
  {
   "cell_type": "code",
   "execution_count": null,
   "metadata": {},
   "outputs": [],
   "source": [
    "def retrieve_daily_era5(spec):\n",
    "    '''\n",
    "    inputs: year(str), month(str), day(str), list of hours in a day, variable ('tas', 'precip'), \n",
    "    file_format ('netcdf', 'grib')\n",
    "    output: daily grib or NetCDF file with hourly ERA-5 data for tas or precip \n",
    "    '''\n",
    "    \n",
    "    c, variable, file_format, grid, year, month, day, hours = spec\n",
    "    \n",
    "    variable_names = {'tas': '2m_temperature', 'precip': 'total_precipitation'}\n",
    "    filenames = {'tas': 't2m', 'precip': 'total_precip'}\n",
    "    file_extensions = {'netcdf': 'nc', 'grib': 'grib'}\n",
    "    \n",
    "    era5_tmp_dir = '/gcs/impactlab-data/climate/source_data/ERA-5/%s/hourly/%s' %(variable, file_format)\n",
    "    filename = '%s_%s_%s_%s.%s' %(filenames[variable], year, month, day, file_extensions[file_format]) \n",
    "    filepath = os.path.join(era5_tmp_dir, filename)\n",
    "    \n",
    "    # first check to be sure file exists\n",
    "    if os.path.isfile(filepath):\n",
    "        pass\n",
    "    else:\n",
    "        c.retrieve(\n",
    "        'reanalysis-era5-single-levels',\n",
    "        {\n",
    "            'product_type':'reanalysis',\n",
    "            'variable':variable_names[variable], \n",
    "            'year':year,\n",
    "            'month':month,\n",
    "            'day':day,\n",
    "            'time':hours,\n",
    "            'format':file_format,\n",
    "            'grid': grid,\n",
    "        },\n",
    "        filepath)"
   ]
  },
  {
   "cell_type": "markdown",
   "metadata": {},
   "source": [
    "Note: more information on the ERA-5 grid configurations is available here: https://confluence.ecmwf.int/display/CKB/ERA5%3A+What+is+the+spatial+reference#ERA5:Whatisthespatialreference-Gridresolution"
   ]
  },
  {
   "cell_type": "code",
   "execution_count": null,
   "metadata": {},
   "outputs": [],
   "source": [
    "'''era_start = '01-01-1979'\n",
    "era_end = '12-31-2020'''\n",
    "# adjust for bias correction reference period \n",
    "era_start = '01-01-1994'\n",
    "era_end = '01-01-2016'\n",
    "# make list of daily datetime indices, this includes leap years \n",
    "dt_index_full = pd.date_range(start=era_start, end=era_end, freq='D')\n",
    "\n",
    "# reformat month/day for the retrieval function \n",
    "dt_index_years = dt_index_full.year.astype(str)\n",
    "dt_index_months = dt_index_full.month.map(\"{:02}\".format)\n",
    "dt_index_days = dt_index_full.day.map(\"{:02}\".format)\n",
    "daynum = dt_index_full.dayofyear\n",
    "\n",
    "# make list of hours for retrieval function -- only need one example day\n",
    "hours = [hr.strftime(\"%H:%M\") for hr in pd.date_range(start='01-01-1979', end='01-02-1979', freq='H')[:-1]]\n",
    "\n",
    "# set grid \n",
    "# the 'F320' grid is the regular Gaussian corresponding to the reduced Gaussian N320 that the native ERA-5 atmosphere \n",
    "# model is on \n",
    "grid = 'F320'\n",
    "\n",
    "variable = 'precip'\n",
    "\n",
    "# set file format: can be grib or netcdf \n",
    "file_format = 'netcdf'"
   ]
  },
  {
   "cell_type": "code",
   "execution_count": null,
   "metadata": {},
   "outputs": [],
   "source": [
    "c_list = []\n",
    "for i, day in enumerate(dt_index_days):\n",
    "    c_list.append(cdsapi.Client())"
   ]
  },
  {
   "cell_type": "code",
   "execution_count": null,
   "metadata": {},
   "outputs": [],
   "source": [
    "JOBS = [(c, variable, file_format, grid, year, month, day, hours) for c, year, month, day in zip(c_list, \n",
    "                                                                    dt_index_years, \n",
    "                                                                    dt_index_months, \n",
    "                                                                    dt_index_days)]"
   ]
  },
  {
   "cell_type": "code",
   "execution_count": null,
   "metadata": {},
   "outputs": [],
   "source": [
    "futures_1 = client.map(retrieve_daily_era5, JOBS[:1500])\n",
    "dd.progress(futures_1)"
   ]
  },
  {
   "cell_type": "code",
   "execution_count": null,
   "metadata": {},
   "outputs": [],
   "source": [
    "futures_2 = client.map(retrieve_daily_era5, JOBS[1500:3000])\n",
    "dd.progress(futures_2)"
   ]
  },
  {
   "cell_type": "code",
   "execution_count": null,
   "metadata": {},
   "outputs": [],
   "source": [
    "futures_3 = client.map(retrieve_daily_era5, JOBS[3000:4500])\n",
    "dd.progress(futures_3)"
   ]
  },
  {
   "cell_type": "code",
   "execution_count": null,
   "metadata": {},
   "outputs": [],
   "source": [
    "futures_4 = client.map(retrieve_daily_era5, JOBS[4500:6000])\n",
    "dd.progress(futures_4)"
   ]
  },
  {
   "cell_type": "code",
   "execution_count": null,
   "metadata": {},
   "outputs": [],
   "source": [
    "futures_5 = client.map(retrieve_daily_era5, JOBS[6000:7500])\n",
    "dd.progress(futures_5)"
   ]
  },
  {
   "cell_type": "code",
   "execution_count": null,
   "metadata": {},
   "outputs": [],
   "source": [
    "futures_6 = client.map(retrieve_daily_era5, JOBS[7500:9000])\n",
    "dd.progress(futures_6)"
   ]
  },
  {
   "cell_type": "code",
   "execution_count": null,
   "metadata": {},
   "outputs": [],
   "source": [
    "futures_7 = client.map(retrieve_daily_era5, JOBS[9000:10500])\n",
    "dd.progress(futures_7)"
   ]
  },
  {
   "cell_type": "code",
   "execution_count": null,
   "metadata": {},
   "outputs": [],
   "source": [
    "futures_8 = client.map(retrieve_daily_era5, JOBS[10500:12000])\n",
    "dd.progress(futures_8)"
   ]
  },
  {
   "cell_type": "code",
   "execution_count": null,
   "metadata": {},
   "outputs": [],
   "source": [
    "futures_9 = client.map(retrieve_daily_era5, JOBS[12000:13500])\n",
    "dd.progress(futures_9)"
   ]
  },
  {
   "cell_type": "code",
   "execution_count": null,
   "metadata": {},
   "outputs": [],
   "source": [
    "futures_10 = client.map(retrieve_daily_era5, JOBS[13500:])\n",
    "dd.progress(futures_10)"
   ]
  }
 ],
 "metadata": {
  "kernelspec": {
   "display_name": "Python 3",
   "language": "python",
   "name": "python3"
  },
  "language_info": {
   "codemirror_mode": {
    "name": "ipython",
    "version": 3
   },
   "file_extension": ".py",
   "mimetype": "text/x-python",
   "name": "python",
   "nbconvert_exporter": "python",
   "pygments_lexer": "ipython3",
   "version": "3.8.6"
  },
  "widgets": {
   "application/vnd.jupyter.widget-state+json": {
    "state": {},
    "version_major": 2,
    "version_minor": 0
   }
  }
 },
 "nbformat": 4,
 "nbformat_minor": 4
}
