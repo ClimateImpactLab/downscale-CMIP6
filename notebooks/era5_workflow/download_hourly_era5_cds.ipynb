{
 "cells": [
  {
   "cell_type": "markdown",
   "metadata": {},
   "source": [
    "**Step 1: Download ERA5 2-m temperature from CDS website. Update to download 2-m temperature and precip grib files** "
   ]
  },
  {
   "cell_type": "code",
   "execution_count": 1,
   "metadata": {},
   "outputs": [],
   "source": [
    "%matplotlib inline\n",
    "import xarray as xr\n",
    "import numpy as np \n",
    "import matplotlib.pyplot as plt\n",
    "import os\n",
    "import pandas as pd\n",
    "from datetime import datetime, timedelta, date\n",
    "\n",
    "import dask\n",
    "import dask.array as dda\n",
    "import dask.distributed as dd\n",
    "\n",
    "# rhodium-specific kubernetes cluster configuration\n",
    "import rhg_compute_tools.kubernetes as rhgk"
   ]
  },
  {
   "cell_type": "code",
   "execution_count": 2,
   "metadata": {},
   "outputs": [
    {
     "name": "stdout",
     "output_type": "stream",
     "text": [
      "Requirement already satisfied: cdsapi in /srv/conda/envs/notebook/lib/python3.8/site-packages (0.5.1)\n",
      "Requirement already satisfied: tqdm in /srv/conda/envs/notebook/lib/python3.8/site-packages (from cdsapi) (4.60.0)\n",
      "Requirement already satisfied: requests>=2.5.0 in /srv/conda/envs/notebook/lib/python3.8/site-packages (from cdsapi) (2.25.1)\n",
      "Requirement already satisfied: certifi>=2017.4.17 in /srv/conda/envs/notebook/lib/python3.8/site-packages (from requests>=2.5.0->cdsapi) (2020.12.5)\n",
      "Requirement already satisfied: chardet<5,>=3.0.2 in /srv/conda/envs/notebook/lib/python3.8/site-packages (from requests>=2.5.0->cdsapi) (4.0.0)\n",
      "Requirement already satisfied: idna<3,>=2.5 in /srv/conda/envs/notebook/lib/python3.8/site-packages (from requests>=2.5.0->cdsapi) (2.10)\n",
      "Requirement already satisfied: urllib3<1.27,>=1.21.1 in /srv/conda/envs/notebook/lib/python3.8/site-packages (from requests>=2.5.0->cdsapi) (1.26.4)\n"
     ]
    }
   ],
   "source": [
    " # install copernicus API to create client instances\n",
    "!pip install cdsapi \n",
    "import cdsapi "
   ]
  },
  {
   "cell_type": "code",
   "execution_count": 3,
   "metadata": {},
   "outputs": [],
   "source": [
    "client, cluster = rhgk.get_standard_cluster(extra_pip_packages='cdsapi')\n",
    "cluster.scale(10)"
   ]
  },
  {
   "cell_type": "code",
   "execution_count": 4,
   "metadata": {},
   "outputs": [
    {
     "data": {
      "text/html": [
       "<table style=\"border: 2px solid white;\">\n",
       "<tr>\n",
       "<td style=\"vertical-align: top; border: 0px solid white\">\n",
       "<h3 style=\"text-align: left;\">Client</h3>\n",
       "<ul style=\"text-align: left; list-style: none; margin: 0; padding: 0;\">\n",
       "  <li><b>Scheduler: </b>gateway://traefik-impactlab-hub-dask-gateway.impactlab-hub:80/impactlab-hub.e328b535a0254c4cbad02a8c57eda207</li>\n",
       "  <li><b>Dashboard: </b><a href='/services/dask-gateway/clusters/impactlab-hub.e328b535a0254c4cbad02a8c57eda207/status' target='_blank'>/services/dask-gateway/clusters/impactlab-hub.e328b535a0254c4cbad02a8c57eda207/status</a></li>\n",
       "</ul>\n",
       "</td>\n",
       "<td style=\"vertical-align: top; border: 0px solid white\">\n",
       "<h3 style=\"text-align: left;\">Cluster</h3>\n",
       "<ul style=\"text-align: left; list-style:none; margin: 0; padding: 0;\">\n",
       "  <li><b>Workers: </b>0</li>\n",
       "  <li><b>Cores: </b>0</li>\n",
       "  <li><b>Memory: </b>0 B</li>\n",
       "</ul>\n",
       "</td>\n",
       "</tr>\n",
       "</table>"
      ],
      "text/plain": [
       "<Client: 'tls://10.21.117.2:8786' processes=0 threads=0, memory=0 B>"
      ]
     },
     "execution_count": 4,
     "metadata": {},
     "output_type": "execute_result"
    }
   ],
   "source": [
    "client"
   ]
  },
  {
   "cell_type": "code",
   "execution_count": 29,
   "metadata": {},
   "outputs": [],
   "source": [
    "cluster.close()"
   ]
  },
  {
   "cell_type": "code",
   "execution_count": 8,
   "metadata": {},
   "outputs": [],
   "source": [
    "def retrieve_daily_era5(spec):\n",
    "    '''\n",
    "    inputs: year(str), month(str), day(str), list of hours in a day\n",
    "    output: daily grib file with hourly ERA-5 data\n",
    "    '''\n",
    "    \n",
    "    c, year, month, day, hours = spec #\n",
    "    \n",
    "    era5_tmp_dir = '/gcs/impactlab-data/climate/source_data/ERA-5/hourly/precip_grib' # precip_grib, grib_files\n",
    "    filename = 'total_precip_%s_%s_%s.grib' %(year, month, day) #total_precip, t2m\n",
    "    filepath = os.path.join(era5_tmp_dir, filename)\n",
    "    \n",
    "    # first check to be sure file exists\n",
    "    if os.path.isfile(filepath):\n",
    "        pass\n",
    "    else:\n",
    "        c.retrieve(\n",
    "        'reanalysis-era5-single-levels',\n",
    "        {\n",
    "            'product_type':'reanalysis',\n",
    "            'variable':'total_precipitation', #total_precipitation, 2m_temperature\n",
    "            'year':year,\n",
    "            'month':month,\n",
    "            'day':day,\n",
    "            'time':hours,\n",
    "            'format':'grib'\n",
    "        },\n",
    "        filepath)"
   ]
  },
  {
   "cell_type": "code",
   "execution_count": 9,
   "metadata": {},
   "outputs": [],
   "source": [
    "era_start = '01-03-1979' \n",
    "era_end = '01-03-1979'\n",
    "# make list of daily datetime indices, this includes leap years \n",
    "dt_index_full = pd.date_range(start=era_start, end=era_end, freq='D')\n",
    "\n",
    "# reformat month/day for the retrieval function \n",
    "dt_index_years = dt_index_full.year.astype(str)\n",
    "dt_index_months = dt_index_full.month.map(\"{:02}\".format)\n",
    "dt_index_days = dt_index_full.day.map(\"{:02}\".format)\n",
    "daynum = dt_index_full.dayofyear\n",
    "\n",
    "# make list of hours for retrieval function -- only need one example day\n",
    "hours = [hr.strftime(\"%H:%M\") for hr in pd.date_range(start='01-01-1979', end='01-02-1979', freq='H')[:-1]]"
   ]
  },
  {
   "cell_type": "code",
   "execution_count": 10,
   "metadata": {},
   "outputs": [],
   "source": [
    "c_list = []\n",
    "for i, day in enumerate(dt_index_days):\n",
    "    c_list.append(cdsapi.Client())"
   ]
  },
  {
   "cell_type": "code",
   "execution_count": 11,
   "metadata": {},
   "outputs": [],
   "source": [
    "JOBS = [(c, year, month, day, hours) for c, year, month, day in zip(c_list, \n",
    "                                                                    dt_index_years, \n",
    "                                                                    dt_index_months, \n",
    "                                                                    dt_index_days)]"
   ]
  },
  {
   "cell_type": "code",
   "execution_count": 12,
   "metadata": {},
   "outputs": [
    {
     "data": {
      "application/vnd.jupyter.widget-view+json": {
       "model_id": "56be89b7f8924a94b1ec77ca136ca161",
       "version_major": 2,
       "version_minor": 0
      },
      "text/plain": [
       "VBox()"
      ]
     },
     "metadata": {},
     "output_type": "display_data"
    }
   ],
   "source": [
    "futures = client.submit(retrieve_daily_era5, JOBS[0])\n",
    "dd.progress(futures)"
   ]
  },
  {
   "cell_type": "code",
   "execution_count": 20,
   "metadata": {},
   "outputs": [
    {
     "data": {
      "application/vnd.jupyter.widget-view+json": {
       "model_id": "4f52fe8cd68e4770b8b2b76e0ee33b74",
       "version_major": 2,
       "version_minor": 0
      },
      "text/plain": [
       "VBox()"
      ]
     },
     "metadata": {},
     "output_type": "display_data"
    }
   ],
   "source": [
    "futures_1 = client.map(retrieve_daily_era5, JOBS[:1500])\n",
    "dd.progress(futures_1)"
   ]
  },
  {
   "cell_type": "code",
   "execution_count": 21,
   "metadata": {},
   "outputs": [
    {
     "data": {
      "application/vnd.jupyter.widget-view+json": {
       "model_id": "8bd02e581e0c48908c53b8d63144e218",
       "version_major": 2,
       "version_minor": 0
      },
      "text/plain": [
       "VBox()"
      ]
     },
     "metadata": {},
     "output_type": "display_data"
    }
   ],
   "source": [
    "futures_2 = client.map(retrieve_daily_era5, JOBS[1500:3000])\n",
    "dd.progress(futures_2)"
   ]
  },
  {
   "cell_type": "code",
   "execution_count": 22,
   "metadata": {},
   "outputs": [
    {
     "data": {
      "application/vnd.jupyter.widget-view+json": {
       "model_id": "ff1668db03cd4cb8b12f7a83f55f0227",
       "version_major": 2,
       "version_minor": 0
      },
      "text/plain": [
       "VBox()"
      ]
     },
     "metadata": {},
     "output_type": "display_data"
    }
   ],
   "source": [
    "futures_3 = client.map(retrieve_daily_era5, JOBS[3000:4500])\n",
    "dd.progress(futures_3)"
   ]
  },
  {
   "cell_type": "code",
   "execution_count": 23,
   "metadata": {},
   "outputs": [
    {
     "data": {
      "application/vnd.jupyter.widget-view+json": {
       "model_id": "13452271536b43e5b50a8831c0809b1d",
       "version_major": 2,
       "version_minor": 0
      },
      "text/plain": [
       "VBox()"
      ]
     },
     "metadata": {},
     "output_type": "display_data"
    }
   ],
   "source": [
    "futures_4 = client.map(retrieve_daily_era5, JOBS[4500:6000])\n",
    "dd.progress(futures_4)"
   ]
  },
  {
   "cell_type": "code",
   "execution_count": 11,
   "metadata": {},
   "outputs": [
    {
     "data": {
      "application/vnd.jupyter.widget-view+json": {
       "model_id": "2148cf520f994e2da6567d788c2e86dc",
       "version_major": 2,
       "version_minor": 0
      },
      "text/plain": [
       "VBox()"
      ]
     },
     "metadata": {},
     "output_type": "display_data"
    }
   ],
   "source": [
    "futures_5 = client.map(retrieve_daily_era5, JOBS[6000:7500])\n",
    "dd.progress(futures_5)"
   ]
  },
  {
   "cell_type": "code",
   "execution_count": null,
   "metadata": {},
   "outputs": [],
   "source": [
    "futures_6 = client.map(retrieve_daily_era5, JOBS[7500:9000])\n",
    "dd.progress(futures_6)"
   ]
  },
  {
   "cell_type": "code",
   "execution_count": null,
   "metadata": {},
   "outputs": [],
   "source": [
    "futures_7 = client.map(retrieve_daily_era5, JOBS[9000:10500])\n",
    "dd.progress(futures_7)"
   ]
  },
  {
   "cell_type": "code",
   "execution_count": null,
   "metadata": {},
   "outputs": [],
   "source": [
    "futures_8 = client.map(retrieve_daily_era5, JOBS[10500:12000])\n",
    "dd.progress(futures_8)"
   ]
  },
  {
   "cell_type": "code",
   "execution_count": null,
   "metadata": {},
   "outputs": [],
   "source": [
    "futures_9 = client.map(retrieve_daily_era5, JOBS[12000:13500])\n",
    "dd.progress(futures_9)"
   ]
  },
  {
   "cell_type": "code",
   "execution_count": null,
   "metadata": {},
   "outputs": [],
   "source": [
    "futures_10 = client.map(retrieve_daily_era5, JOBS[13500:])\n",
    "dd.progress(futures_10)"
   ]
  },
  {
   "cell_type": "code",
   "execution_count": 1,
   "metadata": {},
   "outputs": [],
   "source": [
    "# Check download ouput\n",
    "! ls /gcs/impactlab-data/climate/source_data/ERA-5/hourly/precip_grib"
   ]
  },
  {
   "cell_type": "code",
   "execution_count": null,
   "metadata": {},
   "outputs": [],
   "source": []
  }
 ],
 "metadata": {
  "kernelspec": {
   "display_name": "Python 3",
   "language": "python",
   "name": "python3"
  },
  "language_info": {
   "codemirror_mode": {
    "name": "ipython",
    "version": 3
   },
   "file_extension": ".py",
   "mimetype": "text/x-python",
   "name": "python",
   "nbconvert_exporter": "python",
   "pygments_lexer": "ipython3",
   "version": "3.8.6"
  },
  "widgets": {
   "application/vnd.jupyter.widget-state+json": {
    "state": {
     "07cb956d00ad437aa3c2c17e3d7be6e6": {
      "model_module": "@jupyter-widgets/base",
      "model_module_version": "1.2.0",
      "model_name": "LayoutModel",
      "state": {}
     },
     "0bcc4b768d39452e96813bce24eaebfa": {
      "model_module": "@jupyter-widgets/base",
      "model_module_version": "1.2.0",
      "model_name": "LayoutModel",
      "state": {}
     },
     "0bd0c756bbde43e5a795a6bcccd90ed0": {
      "model_module": "@jupyter-widgets/controls",
      "model_module_version": "1.5.0",
      "model_name": "DescriptionStyleModel",
      "state": {
       "description_width": ""
      }
     },
     "14adff95bc2c4dc59cdf6a1d772adebb": {
      "model_module": "@jupyter-widgets/base",
      "model_module_version": "1.2.0",
      "model_name": "LayoutModel",
      "state": {}
     },
     "16498ea376904714ab2fe95a203f3948": {
      "model_module": "@jupyter-widgets/controls",
      "model_module_version": "1.5.0",
      "model_name": "HBoxModel",
      "state": {
       "children": [
        "IPY_MODEL_1cddd45039d549d1ae20967d25d2fb36",
        "IPY_MODEL_6a4639139ce9424d8fcb8b27221963b2",
        "IPY_MODEL_923bf474202f43a6b1c47ce2bcb948e7"
       ],
       "layout": "IPY_MODEL_8f3fb798e1c14647bc493f93bc7d08ae"
      }
     },
     "1cddd45039d549d1ae20967d25d2fb36": {
      "model_module": "@jupyter-widgets/controls",
      "model_module_version": "1.5.0",
      "model_name": "HTMLModel",
      "state": {
       "layout": "IPY_MODEL_14adff95bc2c4dc59cdf6a1d772adebb",
       "style": "IPY_MODEL_5b24c920d7734b47a46e6b54c4b31625",
       "value": "<div style=\"padding: 0px 10px 0px 10px; text-align: right\">1 / 1</div>"
      }
     },
     "2b7dd9e925bd403ea6ec3061a5c31a77": {
      "model_module": "@jupyter-widgets/controls",
      "model_module_version": "1.5.0",
      "model_name": "ProgressStyleModel",
      "state": {
       "description_width": ""
      }
     },
     "56be89b7f8924a94b1ec77ca136ca161": {
      "model_module": "@jupyter-widgets/controls",
      "model_module_version": "1.5.0",
      "model_name": "VBoxModel",
      "state": {
       "children": [
        "IPY_MODEL_9f0393e4b4434d1594deba8f3ba6e7d5",
        "IPY_MODEL_6f70b1c85b05477d878cd0f36a16b965"
       ],
       "layout": "IPY_MODEL_07cb956d00ad437aa3c2c17e3d7be6e6"
      }
     },
     "58e83089ea744f21ad5f93a4563ba392": {
      "model_module": "@jupyter-widgets/base",
      "model_module_version": "1.2.0",
      "model_name": "LayoutModel",
      "state": {}
     },
     "5b24c920d7734b47a46e6b54c4b31625": {
      "model_module": "@jupyter-widgets/controls",
      "model_module_version": "1.5.0",
      "model_name": "DescriptionStyleModel",
      "state": {
       "description_width": ""
      }
     },
     "6a4639139ce9424d8fcb8b27221963b2": {
      "model_module": "@jupyter-widgets/controls",
      "model_module_version": "1.5.0",
      "model_name": "FloatProgressModel",
      "state": {
       "bar_style": "success",
       "layout": "IPY_MODEL_cd9afdb327b34dd88b9fb68ee9a01362",
       "max": 1,
       "style": "IPY_MODEL_2b7dd9e925bd403ea6ec3061a5c31a77",
       "value": 1
      }
     },
     "6f70b1c85b05477d878cd0f36a16b965": {
      "model_module": "@jupyter-widgets/controls",
      "model_module_version": "1.5.0",
      "model_name": "VBoxModel",
      "state": {
       "children": [
        "IPY_MODEL_16498ea376904714ab2fe95a203f3948"
       ],
       "layout": "IPY_MODEL_7f93ea64e9cd40938ed4d59774d8a80e"
      }
     },
     "7f93ea64e9cd40938ed4d59774d8a80e": {
      "model_module": "@jupyter-widgets/base",
      "model_module_version": "1.2.0",
      "model_name": "LayoutModel",
      "state": {}
     },
     "8f3fb798e1c14647bc493f93bc7d08ae": {
      "model_module": "@jupyter-widgets/base",
      "model_module_version": "1.2.0",
      "model_name": "LayoutModel",
      "state": {}
     },
     "923bf474202f43a6b1c47ce2bcb948e7": {
      "model_module": "@jupyter-widgets/controls",
      "model_module_version": "1.5.0",
      "model_name": "HTMLModel",
      "state": {
       "layout": "IPY_MODEL_58e83089ea744f21ad5f93a4563ba392",
       "style": "IPY_MODEL_0bd0c756bbde43e5a795a6bcccd90ed0",
       "value": "<div style=\"padding: 0px 10px 0px 10px; text-align:left; word-wrap: break-word;\">retrieve_daily_era5</div>"
      }
     },
     "9f0393e4b4434d1594deba8f3ba6e7d5": {
      "model_module": "@jupyter-widgets/controls",
      "model_module_version": "1.5.0",
      "model_name": "HTMLModel",
      "state": {
       "layout": "IPY_MODEL_0bcc4b768d39452e96813bce24eaebfa",
       "style": "IPY_MODEL_cc97b90df3614e749e8ea0cac0a02ec4",
       "value": "<div style=\"padding: 0px 10px 5px 10px\"><b>Finished:</b> 17.2s</div>"
      }
     },
     "cc97b90df3614e749e8ea0cac0a02ec4": {
      "model_module": "@jupyter-widgets/controls",
      "model_module_version": "1.5.0",
      "model_name": "DescriptionStyleModel",
      "state": {
       "description_width": ""
      }
     },
     "cd9afdb327b34dd88b9fb68ee9a01362": {
      "model_module": "@jupyter-widgets/base",
      "model_module_version": "1.2.0",
      "model_name": "LayoutModel",
      "state": {}
     }
    },
    "version_major": 2,
    "version_minor": 0
   }
  }
 },
 "nbformat": 4,
 "nbformat_minor": 4
}
