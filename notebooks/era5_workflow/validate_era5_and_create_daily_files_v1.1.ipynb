{
 "cells": [
  {
   "cell_type": "markdown",
   "metadata": {},
   "source": [
    "**Step 2: Perform validation on newly downoaded data. Then, calculate the daily tmin, tmax, tas and DTR to save yearly files. Update to Diana's 'era5_download_and_aggregate_to_daily.ipynb' notebook**"
   ]
  },
  {
   "cell_type": "code",
   "execution_count": 2,
   "metadata": {},
   "outputs": [],
   "source": [
    "%matplotlib inline\n",
    "import xarray as xr\n",
    "import numpy as np \n",
    "import matplotlib.pyplot as plt\n",
    "import os\n",
    "import pandas as pd\n",
    "from datetime import datetime, timedelta, date\n",
    "\n",
    "import dask\n",
    "import dask.array as dda\n",
    "import dask.distributed as dd\n",
    "\n",
    "# rhodium-specific kubernetes cluster configuration\n",
    "import rhg_compute_tools.kubernetes as rhgk"
   ]
  },
  {
   "cell_type": "code",
   "execution_count": 3,
   "metadata": {},
   "outputs": [],
   "source": [
    "client, cluster = rhgk.get_big_cluster()\n",
    "cluster.scale(30)"
   ]
  },
  {
   "cell_type": "code",
   "execution_count": 4,
   "metadata": {},
   "outputs": [
    {
     "data": {
      "text/html": [
       "<table style=\"border: 2px solid white;\">\n",
       "<tr>\n",
       "<td style=\"vertical-align: top; border: 0px solid white\">\n",
       "<h3 style=\"text-align: left;\">Client</h3>\n",
       "<ul style=\"text-align: left; list-style: none; margin: 0; padding: 0;\">\n",
       "  <li><b>Scheduler: </b>gateway://traefik-impactlab-hub-dask-gateway.impactlab-hub:80/impactlab-hub.41889301468f4c31815ad4a642702641</li>\n",
       "  <li><b>Dashboard: </b><a href='/services/dask-gateway/clusters/impactlab-hub.41889301468f4c31815ad4a642702641/status' target='_blank'>/services/dask-gateway/clusters/impactlab-hub.41889301468f4c31815ad4a642702641/status</a></li>\n",
       "</ul>\n",
       "</td>\n",
       "<td style=\"vertical-align: top; border: 0px solid white\">\n",
       "<h3 style=\"text-align: left;\">Cluster</h3>\n",
       "<ul style=\"text-align: left; list-style:none; margin: 0; padding: 0;\">\n",
       "  <li><b>Workers: </b>30</li>\n",
       "  <li><b>Cores: </b>30</li>\n",
       "  <li><b>Memory: </b>724.78 GB</li>\n",
       "</ul>\n",
       "</td>\n",
       "</tr>\n",
       "</table>"
      ],
      "text/plain": [
       "<Client: 'tls://10.21.242.4:8786' processes=30 threads=30, memory=724.78 GB>"
      ]
     },
     "execution_count": 4,
     "metadata": {},
     "output_type": "execute_result"
    }
   ],
   "source": [
    "client"
   ]
  },
  {
   "cell_type": "code",
   "execution_count": 12,
   "metadata": {},
   "outputs": [],
   "source": [
    "cluster.close()"
   ]
  },
  {
   "cell_type": "markdown",
   "metadata": {},
   "source": [
    "**Validation of ERA-5 daily files**"
   ]
  },
  {
   "cell_type": "code",
   "execution_count": 29,
   "metadata": {},
   "outputs": [],
   "source": [
    "era_start = '01-01-1979' # 01-01-1979\n",
    "era_end = '12-31-2020'   # 12-31-2020\n",
    "\n",
    "# make list of daily datetime indices, this includes leap years \n",
    "dt_index_full = pd.date_range(start=era_start, end=era_end, freq='D')\n",
    "\n",
    "# reformat month/day for the retrieval function \n",
    "dt_index_years = dt_index_full.year.astype(str)\n",
    "dt_index_months = dt_index_full.month.map(\"{:02}\".format)\n",
    "dt_index_days = dt_index_full.day.map(\"{:02}\".format)\n",
    "daynum = dt_index_full.dayofyear\n",
    "\n",
    "# make list of hours for retrieval function \n",
    "hours = [hr.strftime(\"%H:%M\") for hr in pd.date_range(start='10-09-2019', end='10-10-2019', freq='H')[:-1]]"
   ]
  },
  {
   "cell_type": "code",
   "execution_count": 92,
   "metadata": {},
   "outputs": [],
   "source": [
    "def test_for_nans(ds, var):\n",
    "    # no nans\n",
    "    assert ds[var].isnull().sum() == 0, \"there are nans!\"\n",
    "\n",
    "def test_temp_range(ds, var):\n",
    "    # make sure temp values are in a valid range\n",
    "    # asserts if statement below is false\n",
    "    assert (ds[var].min() > 150) or (ds[var].max() < 350), \"temperature values are invalid\" \n",
    "\n",
    "def test_low_temp_range(ds, var):\n",
    "    threshold = 180\n",
    "    location = ds[var].where(ds[var] < threshold)\n",
    "    num = np.count_nonzero(~np.isnan(location))\n",
    "    return num\n",
    "\n",
    "def test_high_temp_range(ds, var):\n",
    "    threshold = 330\n",
    "    location = ds[var].where(ds[var] > threshold)\n",
    "    num = np.count_nonzero(~np.isnan(location))\n",
    "    return num\n",
    "\n",
    "def test_polar_high_temp(ds, var):\n",
    "    threshold = 317 #315.5\n",
    "    loc_NH = ds[var].sel(latitude=slice(90,50)).where(ds[var].sel(latitude=slice(90,50)) > threshold)\n",
    "    num_NH = np.count_nonzero(~np.isnan(loc_NH))\n",
    "    \n",
    "    loc_SH = ds[var].sel(latitude=slice(-50,-90)).where(ds[var].sel(latitude=slice(-50,-90)) > threshold)\n",
    "    num_SH = np.count_nonzero(~np.isnan(loc_SH))\n",
    "    return num_NH, num_SH\n",
    "\n",
    "def validate_era5_temp(spec):\n",
    "    '''\n",
    "    validate ERA-5 hourly or daily temperature files. \n",
    "    works for hourly `t2m` or saved daily tas, tmin, tmax\n",
    "    '''\n",
    "    filepath, timestep, var = spec\n",
    "    print(spec)\n",
    "    \n",
    "    # first check to be sure file exists\n",
    "    if os.path.isfile(filepath):\n",
    "        pass\n",
    "    else:\n",
    "        raise FileNotFoundError(\"%s was not created\" %filepath)\n",
    "    # now validate: test for nans, correct num of timesteps, \n",
    "    # correct variable exists, and temperature range is not absurd \n",
    "    with xr.open_dataset(filepath) as ds: # if grib: , engine='cfgrib'\n",
    "        test_for_nans(ds, var)\n",
    "        test_temp_range(ds, var)\n",
    "\n",
    "        occurrances_low = test_low_temp_range(ds, var)\n",
    "        if occurrances_low > 0:\n",
    "            return [occurrances_low, filepath]\n",
    "        \n",
    "        occurrances_high = test_high_temp_range(ds, var)\n",
    "        if occurrances_high > 0:\n",
    "            return [occurrances_high, filepath]\n",
    "        \n",
    "        [occur_NH, occur_SH] = test_polar_high_temp(ds, var)\n",
    "        if occur_NH or occur_SH > 0:\n",
    "            return [occur_NH, occur_SH, filepath]"
   ]
  },
  {
   "cell_type": "code",
   "execution_count": 93,
   "metadata": {},
   "outputs": [],
   "source": [
    "daily_files = ['t2m_%s_%s_%s.nc' %(year, month, day) for year, month, \n",
    "               day in zip(dt_index_years, dt_index_months, dt_index_days)]\n",
    "hourly_dir = '/gcs/impactlab-data/climate/source_data/ERA-5/hourly/netcdf_files'\n",
    "\n",
    "daily_filepaths = [os.path.join(hourly_dir, daily_file) for daily_file in daily_files]\n",
    "JOBS_validation = [(filepath, 'hourly', 't2m') for filepath in daily_filepaths]"
   ]
  },
  {
   "cell_type": "code",
   "execution_count": 94,
   "metadata": {},
   "outputs": [
    {
     "data": {
      "text/plain": [
       "('/gcs/impactlab-data/climate/source_data/ERA-5/hourly/grib_files/t2m_1979_04_11.grib',\n",
       " 'hourly',\n",
       " 't2m')"
      ]
     },
     "execution_count": 94,
     "metadata": {},
     "output_type": "execute_result"
    }
   ],
   "source": [
    "JOBS_validation[100]"
   ]
  },
  {
   "cell_type": "code",
   "execution_count": 95,
   "metadata": {},
   "outputs": [
    {
     "name": "stdout",
     "output_type": "stream",
     "text": [
      "CPU times: user 1.8 s, sys: 116 ms, total: 1.91 s\n",
      "Wall time: 1.84 s\n"
     ]
    },
    {
     "data": {
      "application/vnd.jupyter.widget-view+json": {
       "model_id": "09792188ae4f4c0bbc72227fb16bfe9d",
       "version_major": 2,
       "version_minor": 0
      },
      "text/plain": [
       "VBox()"
      ]
     },
     "metadata": {},
     "output_type": "display_data"
    }
   ],
   "source": [
    "%%time\n",
    "futures_validation = client.map(validate_era5_temp, JOBS_validation)\n",
    "dd.progress(futures_validation)"
   ]
  },
  {
   "cell_type": "code",
   "execution_count": null,
   "metadata": {},
   "outputs": [],
   "source": [
    "# gathers output from workers\n",
    "results = client.gather(futures_validation)"
   ]
  },
  {
   "cell_type": "code",
   "execution_count": null,
   "metadata": {},
   "outputs": [],
   "source": [
    "# test number of not None instances in results i.e. where a function 'failed'\n",
    "print(sum(x is not None for x in results))"
   ]
  },
  {
   "cell_type": "code",
   "execution_count": null,
   "metadata": {},
   "outputs": [],
   "source": [
    "# Saves the output of above -- identifying where a value (and not None) is located -- only do if above is > 0\n",
    "list_results = [x is not None for x in results]\n",
    "\n",
    "# worker index for flagged output (if above = True)\n",
    "res = [i for i, val in enumerate(list_results) if val]\n",
    "\n",
    "for i in res:\n",
    "    print(results[i])"
   ]
  },
  {
   "cell_type": "markdown",
   "metadata": {},
   "source": [
    "**Once validation is complete, create a year file of daily values of tmax, tmin, tas and DTR**"
   ]
  },
  {
   "cell_type": "code",
   "execution_count": 79,
   "metadata": {},
   "outputs": [],
   "source": [
    "def calc_daily_era5_average(spec):\n",
    "    '''\n",
    "    calculate daily-averaged ERA-5 temperature data \n",
    "    '''\n",
    "    filepath, timestep, variable = spec\n",
    "    var = variable\n",
    "    with xr.open_dataset(filepath) as ds:\n",
    "        return(ds[var].mean('time'))\n",
    "\n",
    "def calc_daily_era5_tmax(spec):\n",
    "    '''\n",
    "    calculate daily-averaged ERA-5 temperature data \n",
    "    '''\n",
    "    filepath, timestep, variable = spec\n",
    "    var = variable\n",
    "    with xr.open_dataset(filepath) as ds:\n",
    "        return(ds[var].max('time'))\n",
    "\n",
    "def calc_daily_era5_tmin(spec):\n",
    "    '''\n",
    "    calculate daily-averaged ERA-5 temperature data \n",
    "    '''\n",
    "    filepath, timestep, variable = spec\n",
    "    var = variable\n",
    "    with xr.open_dataset(filepath) as ds:\n",
    "        return(ds[var].min('time'))\n",
    "    \n",
    "def calc_daily_dinural_temp_range(spec):\n",
    "    '''\n",
    "    calculate daily-averaged diurnal temperature renage (DTR)  \n",
    "    '''\n",
    "    filepath, timestep, variable = spec\n",
    "    var = variable\n",
    "    with xr.open_dataset(filepath) as ds:\n",
    "        return(ds[var].max('time') - ds[var].min('time'))"
   ]
  },
  {
   "cell_type": "code",
   "execution_count": 72,
   "metadata": {},
   "outputs": [],
   "source": [
    "def create_jobs(year):\n",
    "    start = '01-01-{}'.format(year)\n",
    "    end = '12-31-{}'.format(year)\n",
    "\n",
    "    # make list of daily datetime indices, this includes leap years \n",
    "    dt_index_full = pd.date_range(start=start, end=end, freq='D')\n",
    "\n",
    "    # reformat month/day for the retrieval function \n",
    "    dt_index_years = dt_index_full.year.astype(str)\n",
    "    dt_index_months = dt_index_full.month.map(\"{:02}\".format)\n",
    "    dt_index_days = dt_index_full.day.map(\"{:02}\".format)\n",
    "    \n",
    "    daily_files = ['t2m_%s_%s_%s.nc' %(year, month, day) for year, month, \n",
    "               day in zip(dt_index_years, dt_index_months, dt_index_days)]\n",
    "    hourly_dir = '/gcs/impactlab-data/climate/source_data/ERA-5/hourly/netcdf_files' # update path\n",
    "\n",
    "    daily_filepaths = [os.path.join(hourly_dir, daily_file) for daily_file in daily_files]\n",
    "    JOBS = [(filepath, 'hourly', 't2m') for filepath in daily_filepaths] \n",
    "    return [JOBS, dt_index_full]\n",
    "\n",
    "def save_yearlong_dailydata_file(directory, year, ds, var):\n",
    "    '''\n",
    "    save file of daily data for one variable for one year\n",
    "    directory(str)\n",
    "    year(str)\n",
    "    ds(Dataset)\n",
    "    var(str)\n",
    "    '''\n",
    "    today = str(date.today())\n",
    "    daily_file = xr.Dataset( {var: ds},\n",
    "                           attrs={\n",
    "        'author': 'Meredith Fish',\n",
    "        'contact': 'meredith.fish@rutgers.edu',\n",
    "        'project': ('impactlab-rhg/climate/source-data/ERA-5'),\n",
    "        'source': ('impactlab-rhg/climate/downscaled/ERA-5/hourly'),\n",
    "        'created': today})\n",
    "    filename = '%s_daily_%s-%s.nc' %(var, year, year)\n",
    "    daily_file.to_netcdf(os.path.join(directory, filename))"
   ]
  },
  {
   "cell_type": "code",
   "execution_count": 75,
   "metadata": {},
   "outputs": [],
   "source": [
    "def execute_daily_file_creation(year, variable):\n",
    "    '''\n",
    "    use `create_jobs` to create the JOBS files. \n",
    "    calculate the metric based on variable of interest. \n",
    "    save netcdf file.\n",
    "    '''\n",
    "    \n",
    "    [JOBS, dt_index_full] = create_jobs(year)\n",
    "\n",
    "    save_directory = '/gcs/impactlab-data/climate/source_data/ERA-5/{}/daily/netcdf/'.format(variable)\n",
    "\n",
    "    if variable == 'dtr':\n",
    "        calc = calc_daily_dinural_temp_range\n",
    "    elif variable == 'tas':\n",
    "        calc = calc_daily_era5_average\n",
    "    elif variable == 'tasmax':\n",
    "        calc = calc_daily_era5_tmax\n",
    "    elif variable == 'tasmin':\n",
    "        calc = calc_daily_era5_tmin\n",
    "    \n",
    "    futures = client.map(calc, JOBS)\n",
    "    da_list = client.gather(futures)\n",
    "\n",
    "    # concatenate DataArrays in list \n",
    "    da_year = xr.concat(da_list, dim='time')\n",
    "    # add datetime index \n",
    "    da_year['time'] = dt_index_full\n",
    "    \n",
    "    # save file\n",
    "    save_yearlong_dailydata_file(save_directory, year, da_year, variable)"
   ]
  },
  {
   "cell_type": "code",
   "execution_count": 76,
   "metadata": {},
   "outputs": [
    {
     "name": "stdout",
     "output_type": "stream",
     "text": [
      "1996\n"
     ]
    }
   ],
   "source": [
    "for i_yr in np.arange(1995,2015):\n",
    "    print(i_yr)\n",
    "    execute_daily_file_creation(i_yr, 'dtr')"
   ]
  },
  {
   "cell_type": "code",
   "execution_count": 77,
   "metadata": {},
   "outputs": [
    {
     "name": "stdout",
     "output_type": "stream",
     "text": [
      "dtr_daily_1995-1995.nc\tdtr_daily_1996-1996.nc\n"
     ]
    }
   ],
   "source": [
    "! ls /gcs/impactlab-data/climate/source_data/ERA-5/dtr/daily/netcdf/"
   ]
  }
 ],
 "metadata": {
  "kernelspec": {
   "display_name": "Python 3",
   "language": "python",
   "name": "python3"
  },
  "language_info": {
   "codemirror_mode": {
    "name": "ipython",
    "version": 3
   },
   "file_extension": ".py",
   "mimetype": "text/x-python",
   "name": "python",
   "nbconvert_exporter": "python",
   "pygments_lexer": "ipython3",
   "version": "3.8.6"
  },
  "widgets": {
   "application/vnd.jupyter.widget-state+json": {
    "state": {
     "2072bfdee441421399c4474983d735ca": {
      "model_module": "@jupyter-widgets/controls",
      "model_module_version": "1.5.0",
      "model_name": "VBoxModel",
      "state": {
       "children": [
        "IPY_MODEL_764c69a3ebb14ee3ae2f0fc149c016ab"
       ],
       "layout": "IPY_MODEL_ac08f6a6558a4237b8a6013e6ec1fa19"
      }
     },
     "33e58bd0e8204ce6863675f471e588d7": {
      "model_module": "@jupyter-widgets/controls",
      "model_module_version": "1.5.0",
      "model_name": "DescriptionStyleModel",
      "state": {
       "description_width": ""
      }
     },
     "68fd4c27747b4f92b347fdb55f38ecbf": {
      "model_module": "@jupyter-widgets/controls",
      "model_module_version": "1.5.0",
      "model_name": "HTMLModel",
      "state": {
       "layout": "IPY_MODEL_8aff2a7b1edd48328edee97736ac11c2",
       "style": "IPY_MODEL_822152806945411ea16238204104e4c8",
       "value": "<div style=\"padding: 0px 10px 0px 10px; text-align: right\">15341 / 15341</div>"
      }
     },
     "707045b80ec342a2b652fe49b58cda11": {
      "model_module": "@jupyter-widgets/controls",
      "model_module_version": "1.5.0",
      "model_name": "DescriptionStyleModel",
      "state": {
       "description_width": ""
      }
     },
     "764c69a3ebb14ee3ae2f0fc149c016ab": {
      "model_module": "@jupyter-widgets/controls",
      "model_module_version": "1.5.0",
      "model_name": "HBoxModel",
      "state": {
       "children": [
        "IPY_MODEL_68fd4c27747b4f92b347fdb55f38ecbf",
        "IPY_MODEL_9269a20117924b8680188f89181937c8",
        "IPY_MODEL_936c21762e3e4c56ad74ea811f50bd25"
       ],
       "layout": "IPY_MODEL_94415c24a4354da2808ae222c50575e3"
      }
     },
     "822152806945411ea16238204104e4c8": {
      "model_module": "@jupyter-widgets/controls",
      "model_module_version": "1.5.0",
      "model_name": "DescriptionStyleModel",
      "state": {
       "description_width": ""
      }
     },
     "87e47c61e1a142c18cadb2fac0f7d113": {
      "model_module": "@jupyter-widgets/base",
      "model_module_version": "1.2.0",
      "model_name": "LayoutModel",
      "state": {}
     },
     "8aff2a7b1edd48328edee97736ac11c2": {
      "model_module": "@jupyter-widgets/base",
      "model_module_version": "1.2.0",
      "model_name": "LayoutModel",
      "state": {}
     },
     "9269a20117924b8680188f89181937c8": {
      "model_module": "@jupyter-widgets/controls",
      "model_module_version": "1.5.0",
      "model_name": "FloatProgressModel",
      "state": {
       "bar_style": "success",
       "layout": "IPY_MODEL_a1ffe84641204a2dafd8752027d2f9f9",
       "max": 1,
       "style": "IPY_MODEL_ca7fada0755349bc9c107d3696619246",
       "value": 1
      }
     },
     "936c21762e3e4c56ad74ea811f50bd25": {
      "model_module": "@jupyter-widgets/controls",
      "model_module_version": "1.5.0",
      "model_name": "HTMLModel",
      "state": {
       "layout": "IPY_MODEL_87e47c61e1a142c18cadb2fac0f7d113",
       "style": "IPY_MODEL_707045b80ec342a2b652fe49b58cda11",
       "value": "<div style=\"padding: 0px 10px 0px 10px; text-align:left; word-wrap: break-word;\">calc_daily_dinural_temp_range</div>"
      }
     },
     "94415c24a4354da2808ae222c50575e3": {
      "model_module": "@jupyter-widgets/base",
      "model_module_version": "1.2.0",
      "model_name": "LayoutModel",
      "state": {}
     },
     "a1ffe84641204a2dafd8752027d2f9f9": {
      "model_module": "@jupyter-widgets/base",
      "model_module_version": "1.2.0",
      "model_name": "LayoutModel",
      "state": {}
     },
     "ac08f6a6558a4237b8a6013e6ec1fa19": {
      "model_module": "@jupyter-widgets/base",
      "model_module_version": "1.2.0",
      "model_name": "LayoutModel",
      "state": {}
     },
     "b03845cc3e654a35ba6c8665a8bff699": {
      "model_module": "@jupyter-widgets/base",
      "model_module_version": "1.2.0",
      "model_name": "LayoutModel",
      "state": {}
     },
     "b9c11d31fe034f5d865db04aaad20b3c": {
      "model_module": "@jupyter-widgets/controls",
      "model_module_version": "1.5.0",
      "model_name": "VBoxModel",
      "state": {
       "children": [
        "IPY_MODEL_d4b92763113a46ea86ceb2cee4c4610f",
        "IPY_MODEL_2072bfdee441421399c4474983d735ca"
       ],
       "layout": "IPY_MODEL_b03845cc3e654a35ba6c8665a8bff699"
      }
     },
     "ca7fada0755349bc9c107d3696619246": {
      "model_module": "@jupyter-widgets/controls",
      "model_module_version": "1.5.0",
      "model_name": "ProgressStyleModel",
      "state": {
       "description_width": ""
      }
     },
     "d4b92763113a46ea86ceb2cee4c4610f": {
      "model_module": "@jupyter-widgets/controls",
      "model_module_version": "1.5.0",
      "model_name": "HTMLModel",
      "state": {
       "layout": "IPY_MODEL_feb1139d30014a1a815f6bf051e24e0b",
       "style": "IPY_MODEL_33e58bd0e8204ce6863675f471e588d7",
       "value": "<div style=\"padding: 0px 10px 5px 10px\"><b>Finished:</b>  9min 48.5s</div>"
      }
     },
     "feb1139d30014a1a815f6bf051e24e0b": {
      "model_module": "@jupyter-widgets/base",
      "model_module_version": "1.2.0",
      "model_name": "LayoutModel",
      "state": {}
     }
    },
    "version_major": 2,
    "version_minor": 0
   }
  }
 },
 "nbformat": 4,
 "nbformat_minor": 4
}
