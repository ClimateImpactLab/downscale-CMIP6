{
 "cells": [
  {
   "cell_type": "markdown",
   "metadata": {},
   "source": [
    "ingest one year of precip data, run validation test and precip range then plot histogram of precip ranges"
   ]
  },
  {
   "cell_type": "code",
   "execution_count": 1,
   "metadata": {},
   "outputs": [],
   "source": [
    "%matplotlib inline\n",
    "import xarray as xr\n",
    "import numpy as np \n",
    "import matplotlib.pyplot as plt\n",
    "import os\n",
    "import pandas as pd\n",
    "from datetime import datetime, timedelta, date\n",
    "\n",
    "import dask\n",
    "import dask.array as dda\n",
    "import dask.distributed as dd\n",
    "\n",
    "# rhodium-specific kubernetes cluster configuration\n",
    "import rhg_compute_tools.kubernetes as rhgk"
   ]
  },
  {
   "cell_type": "code",
   "execution_count": 2,
   "metadata": {},
   "outputs": [],
   "source": [
    "client, cluster = rhgk.get_big_cluster()\n",
    "cluster.scale(30)"
   ]
  },
  {
   "cell_type": "code",
   "execution_count": 3,
   "metadata": {},
   "outputs": [
    {
     "data": {
      "text/html": [
       "<table style=\"border: 2px solid white;\">\n",
       "<tr>\n",
       "<td style=\"vertical-align: top; border: 0px solid white\">\n",
       "<h3 style=\"text-align: left;\">Client</h3>\n",
       "<ul style=\"text-align: left; list-style: none; margin: 0; padding: 0;\">\n",
       "  <li><b>Scheduler: </b>gateway://traefik-impactlab-hub-dask-gateway.impactlab-hub:80/impactlab-hub.c5342a594dea421d8545a0fb7d245fe3</li>\n",
       "  <li><b>Dashboard: </b><a href='/services/dask-gateway/clusters/impactlab-hub.c5342a594dea421d8545a0fb7d245fe3/status' target='_blank'>/services/dask-gateway/clusters/impactlab-hub.c5342a594dea421d8545a0fb7d245fe3/status</a></li>\n",
       "</ul>\n",
       "</td>\n",
       "<td style=\"vertical-align: top; border: 0px solid white\">\n",
       "<h3 style=\"text-align: left;\">Cluster</h3>\n",
       "<ul style=\"text-align: left; list-style:none; margin: 0; padding: 0;\">\n",
       "  <li><b>Workers: </b>30</li>\n",
       "  <li><b>Cores: </b>30</li>\n",
       "  <li><b>Memory: </b>724.78 GB</li>\n",
       "</ul>\n",
       "</td>\n",
       "</tr>\n",
       "</table>"
      ],
      "text/plain": [
       "<Client: 'tls://10.21.186.8:8786' processes=30 threads=30, memory=724.78 GB>"
      ]
     },
     "execution_count": 3,
     "metadata": {},
     "output_type": "execute_result"
    }
   ],
   "source": [
    "client"
   ]
  },
  {
   "cell_type": "code",
   "execution_count": 62,
   "metadata": {},
   "outputs": [],
   "source": [
    "cluster.close()"
   ]
  },
  {
   "cell_type": "code",
   "execution_count": 76,
   "metadata": {},
   "outputs": [],
   "source": [
    "# Diana's functions first written: era5_download_and_aggregate_to_daily.ipynb\n",
    "# modified by M. Fish for precip\n",
    "\n",
    "def test_for_nans(ds, var):\n",
    "    # no nans\n",
    "    assert ds[var].isnull().sum() == 0, \"there are nans!\"\n",
    "            \n",
    "def test_num_days(ds):\n",
    "    # num timesteps = 1\n",
    "    assert (len(ds.time) == 365 or len(ds.time) == 366), \"there are not 365 or 366 days in this file!\"\n",
    "\n",
    "def test_negative_precip(ds, var):\n",
    "    threshold = 0.0\n",
    "    location = ds[var].where(ds[var] < threshold)\n",
    "    num = np.count_nonzero(~np.isnan(location))\n",
    "    return num\n",
    "\n",
    "def test_maximum_precip(ds, var):\n",
    "    threshold = 1.0 # max observed is 1.825m --> maximum occurs between 0.5-0.8\n",
    "    location = ds[var].where(ds[var] > threshold)\n",
    "    num = np.count_nonzero(~np.isnan(location))\n",
    "    return num\n",
    "    \n",
    "#def test_precip_range(ds, var):\n",
    "    # make sure temp values are in a valid range\n",
    "#    assert (ds[var].min() < 0.0) and (ds[var].max() > 20.0), \"precip range is invalid\" \n",
    "    \n",
    "def validate_era5_precip(spec):\n",
    "    '''\n",
    "    validate ERA-5 daily precipitation files. \n",
    "    '''\n",
    "    filepath, timestep, var = spec\n",
    "    \n",
    "    # first check to be sure file exists\n",
    "    if os.path.isfile(filepath):\n",
    "        pass\n",
    "    else:\n",
    "        raise FileNotFoundError(\"%s was not created\" %filepath)\n",
    "    # now validate: test for nans, correct num of timesteps, \n",
    "    # correct variable exists, and precipitation range is not absurd \n",
    "    with xr.open_dataset(filepath) as ds:\n",
    "        test_for_nans(ds, var)\n",
    "        \n",
    "        if timestep == 'daily':\n",
    "            test_num_days(ds)\n",
    "        \n",
    "        negative_occurrances = test_negative_precip(ds, var)\n",
    "        if negative_occurrances > 0:\n",
    "            return [negative_occurrances, filepath]\n",
    "        \n",
    "        max_occurrances = test_maximum_precip(ds, var)\n",
    "        if max_occurrances > 0:\n",
    "            return [max_occurrances, filepath]"
   ]
  },
  {
   "cell_type": "code",
   "execution_count": 62,
   "metadata": {},
   "outputs": [],
   "source": [
    "era_start = '1979'\n",
    "era_end = '2019'\n",
    "# make list of yearly datetime indices, this includes leap years \n",
    "dt_index_full = pd.date_range(start=era_start, end=era_end, freq='Y')\n",
    "\n",
    "# reformat month/day for the retrieval function \n",
    "dt_index_years = dt_index_full.year.astype(str)"
   ]
  },
  {
   "cell_type": "code",
   "execution_count": 63,
   "metadata": {},
   "outputs": [],
   "source": [
    "yearly_files = ['precip_total_daily_%s-%s.nc' %(year, year) for year in dt_index_years]\n",
    "daily_dir = '/gcs/impactlab-data/climate/source_data/ERA-5/day/precip_total/v1.1'\n",
    "\n",
    "daily_filepaths = [os.path.join(daily_dir, yearly_file) for yearly_file in yearly_files]\n",
    "JOBS_validation = [(filepath, 'daily', 'precip_total') for filepath in daily_filepaths]"
   ]
  },
  {
   "cell_type": "code",
   "execution_count": 64,
   "metadata": {},
   "outputs": [
    {
     "data": {
      "text/plain": [
       "('/gcs/impactlab-data/climate/source_data/ERA-5/day/precip_total/v1.1/precip_total_daily_1979-1979.nc',\n",
       " 'daily',\n",
       " 'precip_total')"
      ]
     },
     "execution_count": 64,
     "metadata": {},
     "output_type": "execute_result"
    }
   ],
   "source": [
    "JOBS_validation[0]"
   ]
  },
  {
   "cell_type": "code",
   "execution_count": 77,
   "metadata": {},
   "outputs": [
    {
     "name": "stdout",
     "output_type": "stream",
     "text": [
      "CPU times: user 18.2 ms, sys: 4.01 ms, total: 22.2 ms\n",
      "Wall time: 18.8 ms\n"
     ]
    },
    {
     "data": {
      "application/vnd.jupyter.widget-view+json": {
       "model_id": "5380b6e5e99c439e9bd4418b29821628",
       "version_major": 2,
       "version_minor": 0
      },
      "text/plain": [
       "VBox()"
      ]
     },
     "metadata": {},
     "output_type": "display_data"
    }
   ],
   "source": [
    "%%time\n",
    "futures_validation = client.map(validate_era5_precip, JOBS_validation)\n",
    "dd.progress(futures_validation)"
   ]
  },
  {
   "cell_type": "code",
   "execution_count": 78,
   "metadata": {},
   "outputs": [],
   "source": [
    "# gathers output from workers\n",
    "results = client.gather(futures_validation)"
   ]
  },
  {
   "cell_type": "code",
   "execution_count": 79,
   "metadata": {},
   "outputs": [
    {
     "name": "stdout",
     "output_type": "stream",
     "text": [
      "36\n"
     ]
    }
   ],
   "source": [
    "# test number of not None instances in results i.e. where a function 'failed'\n",
    "print(sum(x is not None for x in results))"
   ]
  },
  {
   "cell_type": "markdown",
   "metadata": {},
   "source": [
    "Plot histograms of each yearly precip file"
   ]
  },
  {
   "cell_type": "code",
   "execution_count": 4,
   "metadata": {},
   "outputs": [],
   "source": [
    "bins = [100, [0.0, 0.1, 0.01], [0.01, 0.26, 0.02], [0.50, 1.05, 0.1]]"
   ]
  },
  {
   "cell_type": "code",
   "execution_count": 5,
   "metadata": {},
   "outputs": [],
   "source": [
    "bin_titles = ['All Bins', 'Low End Distribution', 'Non-zero Distribution', 'Upper-End Distribution']"
   ]
  },
  {
   "cell_type": "code",
   "execution_count": 6,
   "metadata": {},
   "outputs": [],
   "source": [
    "def make_histogram_bins_list(num_bins, bins):\n",
    "    all_bins = []\n",
    "    \n",
    "    for i_bins in range(num_bins):\n",
    "        if isinstance(bins[i_bins], int) == False:\n",
    "            bins_list = bins[i_bins]\n",
    "            bins_section = np.arange(bins_list[0], bins_list[1], bins_list[2])\n",
    "        else:\n",
    "            bins_section = bins[i_bins]\n",
    "        \n",
    "        all_bins.append(bins_section)\n",
    "    \n",
    "    return all_bins"
   ]
  },
  {
   "cell_type": "code",
   "execution_count": 7,
   "metadata": {},
   "outputs": [],
   "source": [
    "all_bins = make_histogram_bins_list(4, bins)"
   ]
  },
  {
   "cell_type": "code",
   "execution_count": 8,
   "metadata": {},
   "outputs": [],
   "source": [
    "def make_histogram_subplot(rows, columns, ds, var, all_bins, bin_titles, title):\n",
    "    fig, axs = plt.subplots(rows, columns, tight_layout=True, figsize=(12, 4))\n",
    "    fig.suptitle(title)\n",
    "    for i_col in range(columns):\n",
    "        axs[i_col].hist(ds[var].values.ravel(), bins=all_bins[i_col], rwidth=0.9)\n",
    "        axs[i_col].title.set_text(bin_titles[i_col])\n",
    "        if i_col == 0:\n",
    "            axs[i_col].set_xlim([-0.01, 1])\n",
    "            \n",
    "    director = '/home/jovyan/ClimateImpactLab/Climate/climate_data_notebooks/data_production/precip_hist/' # not actually using!!\n",
    "    split_string = title.split()\n",
    "    year = split_string[7]\n",
    "    fig.savefig(os.path.join(director, 'precip_{}_m.png'.format(year)))"
   ]
  },
  {
   "cell_type": "code",
   "execution_count": 9,
   "metadata": {},
   "outputs": [
    {
     "data": {
      "text/plain": [
       "array([1979, 1980])"
      ]
     },
     "execution_count": 9,
     "metadata": {},
     "output_type": "execute_result"
    }
   ],
   "source": [
    "years = np.arange(1979,1981)\n",
    "years"
   ]
  },
  {
   "cell_type": "code",
   "execution_count": 10,
   "metadata": {},
   "outputs": [
    {
     "data": {
      "image/png": "[encoded data removed]",
      "text/plain": [
       "<Figure size 864x288 with 4 Axes>"
      ]
     },
     "metadata": {
      "needs_background": "light"
     },
     "output_type": "display_data"
    },
    {
     "data": {
      "image/png": "[encoded data removed]",
      "text/plain": [
       "<Figure size 864x288 with 4 Axes>"
      ]
     },
     "metadata": {
      "needs_background": "light"
     },
     "output_type": "display_data"
    }
   ],
   "source": [
    "var_name = 'precip_total'\n",
    "for year in years: \n",
    "    filename = '/gcs/impactlab-data/climate/source_data/ERA-5/day/precip_total/v1.1/precip_total_daily_{}-{}.nc'.format(year, year)\n",
    "    ds = xr.open_mfdataset(filename)\n",
    "    \n",
    "    title = 'Histogram of Daily Precipitation Accumulation (m/day) for {}'.format(year)\n",
    "    make_histogram_subplot(1,4, ds, var_name, all_bins, bin_titles, title)"
   ]
  },
  {
   "cell_type": "markdown",
   "metadata": {},
   "source": [
    "Example of one sample year"
   ]
  },
  {
   "cell_type": "code",
   "execution_count": 25,
   "metadata": {},
   "outputs": [
    {
     "name": "stdout",
     "output_type": "stream",
     "text": [
      "1979\n"
     ]
    },
    {
     "data": {
      "image/png": "[encoded data removed]",
      "text/plain": [
       "<Figure size 864x288 with 4 Axes>"
      ]
     },
     "metadata": {
      "needs_background": "light"
     },
     "output_type": "display_data"
    }
   ],
   "source": [
    "filename = '/gcs/impactlab-data/climate/source_data/ERA-5/day/precip_total/v1.1/precip_total_daily_1979-1979.nc'\n",
    "ds = xr.open_mfdataset(filename)\n",
    "    \n",
    "title = 'Histogram of Daily Precipitation Accumulation (m/day) for 1979'\n",
    "make_histogram_subplot(1,4, ds, var_name, all_bins, bin_titles, title)"
   ]
  }
 ],
 "metadata": {
  "kernelspec": {
   "display_name": "Python 3",
   "language": "python",
   "name": "python3"
  },
  "language_info": {
   "codemirror_mode": {
    "name": "ipython",
    "version": 3
   },
   "file_extension": ".py",
   "mimetype": "text/x-python",
   "name": "python",
   "nbconvert_exporter": "python",
   "pygments_lexer": "ipython3",
   "version": "3.8.6"
  }
 },
 "nbformat": 4,
 "nbformat_minor": 4
}
