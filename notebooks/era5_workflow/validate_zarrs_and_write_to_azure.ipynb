{
 "cells": [
  {
   "cell_type": "code",
   "execution_count": null,
   "metadata": {},
   "outputs": [],
   "source": [
    "# ! pip install adlfs"
   ]
  },
  {
   "cell_type": "code",
   "execution_count": 10,
   "metadata": {},
   "outputs": [],
   "source": [
    "%matplotlib inline \n",
    "import xarray as xr\n",
    "import numpy as np\n",
    "import os \n",
    "\n",
    "from adlfs import AzureBlobFileSystem\n",
    "from datetime import datetime\n",
    "\n",
    "import dask.distributed as dd\n",
    "import dask\n",
    "import rhg_compute_tools.kubernetes as rhgk"
   ]
  },
  {
   "cell_type": "code",
   "execution_count": 2,
   "metadata": {},
   "outputs": [],
   "source": [
    "import gcsfs\n",
    "fs = gcsfs.GCSFileSystem(token='/opt/gcsfuse_tokens/impactlab-data.json')"
   ]
  },
  {
   "cell_type": "code",
   "execution_count": 3,
   "metadata": {},
   "outputs": [
    {
     "data": {
      "application/vnd.jupyter.widget-view+json": {
       "model_id": "6bef76e64dae407d857e7acc934b215b",
       "version_major": 2,
       "version_minor": 0
      },
      "text/plain": [
       "VBox(children=(HTML(value='<h2>GatewayCluster</h2>'), HBox(children=(HTML(value='\\n<div>\\n<style scoped>\\n    …"
      ]
     },
     "metadata": {},
     "output_type": "display_data"
    }
   ],
   "source": [
    "client, cluster = rhgk.get_standard_cluster(extra_pip_packages=\"adlfs\")\n",
    "cluster"
   ]
  },
  {
   "cell_type": "markdown",
   "metadata": {},
   "source": [
    "Validation code for zarr stores "
   ]
  },
  {
   "cell_type": "code",
   "execution_count": 4,
   "metadata": {},
   "outputs": [],
   "source": [
    "def test_for_nans(ds, var):\n",
    "    \"\"\"\n",
    "    test for presence of NaNs\n",
    "    \"\"\"\n",
    "    assert ds[var].isnull().sum() == 0, \"there are nans!\"\n",
    "    \n",
    "def test_date_range(ds, var): \n",
    "    \"\"\"\n",
    "    test that first date and last date in zarrs are correct\n",
    "    \"\"\"\n",
    "    start_date = datetime.strptime('01 01 1994', '%d %m %Y')\n",
    "    end_date = datetime.strptime('31 12 2015', '%d %m %Y')\n",
    "    ds_dates = ds.indexes['time'].to_datetimeindex()\n",
    "    assert ds_dates[0] == start_date, \"1994 is not the start date\"\n",
    "    assert ds_dates[-1] == end_date, \"zarr store does not contain the full time series\"\n",
    "    \n",
    "def test_lat_lon_length(ds, var):\n",
    "    \"\"\"\n",
    "    tests that full lat/lon arrays were written to zarr store\n",
    "    \"\"\"\n",
    "    assert len(ds.latitude) == 640, \"the full latitude array did not get written\"\n",
    "    assert len(ds.longitude) == 1280, \"the full longitude array did not get written\"\n",
    "    \n",
    "def validate_zarr_store(ds, var):\n",
    "    \"\"\"\n",
    "    validate zarr store by checking for NaNs and that full time series is present \n",
    "    \"\"\"\n",
    "    test_for_nans(ds, var)\n",
    "    test_date_range(ds, var)\n",
    "    test_lat_lon_length(ds, var)"
   ]
  },
  {
   "cell_type": "markdown",
   "metadata": {},
   "source": [
    "Validate zarr stores by checking a) NaNs, b) valid date range (1994 - 2015 so we can slice the additional +/- 15 days), c) valid lat/lon lengths. Other validation was covered in previous validation steps. "
   ]
  },
  {
   "cell_type": "code",
   "execution_count": 5,
   "metadata": {},
   "outputs": [],
   "source": [
    "variables = [\"tasmax\", \"tasmin\", \"dtr\", \"pr\"]"
   ]
  },
  {
   "cell_type": "code",
   "execution_count": 11,
   "metadata": {},
   "outputs": [
    {
     "name": "stdout",
     "output_type": "stream",
     "text": [
      "validating pr\n",
      "finished validating zarr store for pr\n"
     ]
    },
    {
     "name": "stderr",
     "output_type": "stream",
     "text": [
      "<ipython-input-4-ba36f5af85d3>:13: RuntimeWarning: Converting a CFTimeIndex with dates from a non-standard calendar, 'noleap', to a pandas.DatetimeIndex, which uses dates from the standard calendar.  This may lead to subtle errors in operations that depend on the length of time between dates.\n",
      "  ds_dates = ds.indexes['time'].to_datetimeindex()\n"
     ]
    }
   ],
   "source": [
    "for var in variables:\n",
    "    print(\"validating {}\".format(var))\n",
    "    if var == 'pr':\n",
    "        version = 'v3'\n",
    "    else: \n",
    "        version = 'v2'\n",
    "    zarr_storepath = 'gs://impactlab-data/climate/source_data/ERA-5/downscaling/{}.1995-2014.F320.{}.zarr'\n",
    "    store = fs.get_mapper(zarr_storepath.format(var, version), check=False)\n",
    "    with xr.open_zarr(store, consolidated=False) as ds:\n",
    "        validate_zarr_store(ds, var)\n",
    "        print(\"finished validating zarr store for {}\".format(var))"
   ]
  },
  {
   "cell_type": "markdown",
   "metadata": {},
   "source": [
    "write zarr stores to Azure (account key excluded for privacy purposes) "
   ]
  },
  {
   "cell_type": "code",
   "execution_count": null,
   "metadata": {},
   "outputs": [],
   "source": [
    "fs_az = AzureBlobFileSystem(\n",
    "        account_name='dc6',\n",
    "        account_key='', \n",
    "        client_id=os.environ.get(\"AZURE_CLIENT_ID\", None),\n",
    "        client_secret=os.environ.get(\"AZURE_CLIENT_SECRET\", None),\n",
    "        tenant_id=os.environ.get(\"AZURE_TENANT_ID\", None))"
   ]
  },
  {
   "cell_type": "code",
   "execution_count": null,
   "metadata": {},
   "outputs": [],
   "source": [
    "for var in variables:\n",
    "    \n",
    "    if var == 'pr':\n",
    "        version = 'v3'\n",
    "    else: \n",
    "        version = 'v2'\n",
    "    zarr_storepath = 'gs://impactlab-data/climate/source_data/ERA-5/downscaling/{}.1995-2014.F320.{}.zarr'\n",
    "    store = fs.get_mapper(zarr_storepath.format(var, version), check=False)\n",
    "    \n",
    "    with xr.open_zarr(store, consolidated=False) as ds:\n",
    "    \n",
    "        zarr_path = \"clean-dev/ERA-5/F320/{}.1995-2015.F320.v2.zarr\"\n",
    "        az_zarr_direct_path = \"az://clean-dev/ERA-5/{}.1995-2015.F320.v2.zarr\"\n",
    "        az_zarr_store = fs_az.get_mapper(zarr_path.format(var), check=False)\n",
    "\n",
    "        ds.to_zarr(az_zarr_store, consolidated=True, mode=\"w\")\n",
    "        print(\"wrote zarr store to Azure for {}\".format(var))"
   ]
  },
  {
   "cell_type": "code",
   "execution_count": null,
   "metadata": {},
   "outputs": [],
   "source": [
    "if 'dtr' in ds.variables: \n",
    "    print(\"yes\")\n",
    "    \n",
    "if 'tmax' in ds.variables: \n",
    "    print(\"why is tmax here\")"
   ]
  },
  {
   "cell_type": "code",
   "execution_count": null,
   "metadata": {},
   "outputs": [],
   "source": []
  }
 ],
 "metadata": {
  "kernelspec": {
   "display_name": "Python 3",
   "language": "python",
   "name": "python3"
  },
  "language_info": {
   "codemirror_mode": {
    "name": "ipython",
    "version": 3
   },
   "file_extension": ".py",
   "mimetype": "text/x-python",
   "name": "python",
   "nbconvert_exporter": "python",
   "pygments_lexer": "ipython3",
   "version": "3.8.6"
  },
  "widgets": {
   "application/vnd.jupyter.widget-state+json": {
    "state": {
     "0fb635da4df249f7a998d535ad1fbf29": {
      "model_module": "@jupyter-widgets/controls",
      "model_module_version": "1.5.0",
      "model_name": "ButtonStyleModel",
      "state": {}
     },
     "1e6791208be74fc49abee1b489a685fa": {
      "model_module": "@jupyter-widgets/base",
      "model_module_version": "1.2.0",
      "model_name": "LayoutModel",
      "state": {
       "min_width": "150px"
      }
     },
     "256d6d40d5fb497da02f7c76b0062a5b": {
      "model_module": "@jupyter-widgets/controls",
      "model_module_version": "1.5.0",
      "model_name": "HTMLModel",
      "state": {
       "layout": "IPY_MODEL_cc7c114c1c444f3c8a2e27abc2d01829",
       "style": "IPY_MODEL_2e3f91c8ef184b5a940d2d5b46271edd",
       "value": "<h2>GatewayCluster</h2>"
      }
     },
     "2acd0974b4f64e53a6d1f077d6588c7c": {
      "model_module": "@jupyter-widgets/base",
      "model_module_version": "1.2.0",
      "model_name": "LayoutModel",
      "state": {}
     },
     "2ba4c9f8065641ecad6536f83acbf5b3": {
      "model_module": "@jupyter-widgets/controls",
      "model_module_version": "1.5.0",
      "model_name": "HBoxModel",
      "state": {
       "children": [
        "IPY_MODEL_33bd11b903aa4152946f201f5327cbd4",
        "IPY_MODEL_c33df53537a04458879d3dad0e2749a0"
       ],
       "layout": "IPY_MODEL_bb84c830848e4fd2bd2613a1f6885d01"
      }
     },
     "2e3f91c8ef184b5a940d2d5b46271edd": {
      "model_module": "@jupyter-widgets/controls",
      "model_module_version": "1.5.0",
      "model_name": "DescriptionStyleModel",
      "state": {
       "description_width": ""
      }
     },
     "33bd11b903aa4152946f201f5327cbd4": {
      "model_module": "@jupyter-widgets/controls",
      "model_module_version": "1.5.0",
      "model_name": "HTMLModel",
      "state": {
       "layout": "IPY_MODEL_1e6791208be74fc49abee1b489a685fa",
       "style": "IPY_MODEL_7b68d436e35e4710900eec9df48fac9d",
       "value": "\n<div>\n<style scoped>\n    .dataframe tbody tr th:only-of-type {\n        vertical-align: middle;\n    }\n\n    .dataframe tbody tr th {\n        vertical-align: top;\n    }\n\n    .dataframe thead th {\n        text-align: right;\n    }\n</style>\n<table style=\"text-align: right;\">\n    <tr><th>Workers</th> <td>0</td></tr>\n    <tr><th>Cores</th> <td>0</td></tr>\n    <tr><th>Memory</th> <td>0 B</td></tr>\n</table>\n</div>\n"
      }
     },
     "42805ab2e4e144d8b0883de55de42c92": {
      "model_module": "@jupyter-widgets/controls",
      "model_module_version": "1.5.0",
      "model_name": "DescriptionStyleModel",
      "state": {
       "description_width": ""
      }
     },
     "52cd76d8bc374bf0b879ed8bf472f0a8": {
      "model_module": "@jupyter-widgets/base",
      "model_module_version": "1.2.0",
      "model_name": "LayoutModel",
      "state": {}
     },
     "61017ef1dc13421299e46e2f727b6ec0": {
      "model_module": "@jupyter-widgets/controls",
      "model_module_version": "1.5.0",
      "model_name": "HBoxModel",
      "state": {
       "children": [
        "IPY_MODEL_a7b039ea69274688ab965ca17eaa0f00",
        "IPY_MODEL_da256621987b4d5aa7406ec47516a3dd",
        "IPY_MODEL_921fbd4774e7494b844a29433baad964"
       ],
       "layout": "IPY_MODEL_a8fb8a19b87e40cea30a867207eda5a8"
      }
     },
     "6382a82d966b47a39221a29b04e033de": {
      "model_module": "@jupyter-widgets/controls",
      "model_module_version": "1.5.0",
      "model_name": "HTMLModel",
      "state": {
       "layout": "IPY_MODEL_2acd0974b4f64e53a6d1f077d6588c7c",
       "style": "IPY_MODEL_d07029db3d3a44df872011a1409d9a92",
       "value": "<p><b>Dashboard: </b><a href=\"/services/dask-gateway/clusters/impactlab-hub.65cf3a7e070a46ae80aafa1d1b086db8/status\" target=\"_blank\">/services/dask-gateway/clusters/impactlab-hub.65cf3a7e070a46ae80aafa1d1b086db8/status</a></p>\n"
      }
     },
     "6d47051582b34a26bd05dbe2fe9d144c": {
      "model_module": "@jupyter-widgets/base",
      "model_module_version": "1.2.0",
      "model_name": "LayoutModel",
      "state": {
       "min_width": "500px"
      }
     },
     "7b449d720b994859b79e4584b6589f64": {
      "model_module": "@jupyter-widgets/base",
      "model_module_version": "1.2.0",
      "model_name": "LayoutModel",
      "state": {
       "width": "150px"
      }
     },
     "7b646daeaa084a99bc5c88aa8bb96fe0": {
      "model_module": "@jupyter-widgets/base",
      "model_module_version": "1.2.0",
      "model_name": "LayoutModel",
      "state": {}
     },
     "7b68d436e35e4710900eec9df48fac9d": {
      "model_module": "@jupyter-widgets/controls",
      "model_module_version": "1.5.0",
      "model_name": "DescriptionStyleModel",
      "state": {
       "description_width": ""
      }
     },
     "7d93e7080cd14acaa90c91cf995d067a": {
      "model_module": "@jupyter-widgets/controls",
      "model_module_version": "1.5.0",
      "model_name": "IntTextModel",
      "state": {
       "description": "Workers",
       "layout": "IPY_MODEL_7b449d720b994859b79e4584b6589f64",
       "step": 1,
       "style": "IPY_MODEL_d9fc4c0d18474c6998394d80df62817d"
      }
     },
     "862719049e7a45baa8e61e365b0ec85d": {
      "model_module": "@jupyter-widgets/controls",
      "model_module_version": "1.5.0",
      "model_name": "HTMLModel",
      "state": {
       "layout": "IPY_MODEL_7b646daeaa084a99bc5c88aa8bb96fe0",
       "style": "IPY_MODEL_42805ab2e4e144d8b0883de55de42c92",
       "value": "<p><b>Name: </b>impactlab-hub.65cf3a7e070a46ae80aafa1d1b086db8</p>"
      }
     },
     "8bbe207fd7d4499baabc3ca2d74852a6": {
      "model_module": "@jupyter-widgets/controls",
      "model_module_version": "1.5.0",
      "model_name": "ButtonModel",
      "state": {
       "description": "Scale",
       "layout": "IPY_MODEL_7b449d720b994859b79e4584b6589f64",
       "style": "IPY_MODEL_e678d1aeafb5407e824fd233ac919c97"
      }
     },
     "921fbd4774e7494b844a29433baad964": {
      "model_module": "@jupyter-widgets/controls",
      "model_module_version": "1.5.0",
      "model_name": "ButtonModel",
      "state": {
       "description": "Adapt",
       "layout": "IPY_MODEL_7b449d720b994859b79e4584b6589f64",
       "style": "IPY_MODEL_0fb635da4df249f7a998d535ad1fbf29"
      }
     },
     "9bc2b671eafd4f82ab8ff031ace60ddb": {
      "model_module": "@jupyter-widgets/controls",
      "model_module_version": "1.5.0",
      "model_name": "DescriptionStyleModel",
      "state": {
       "description_width": ""
      }
     },
     "a12a6ddbbce14ffb8cb2605e0d764abd": {
      "model_module": "@jupyter-widgets/controls",
      "model_module_version": "1.5.0",
      "model_name": "VBoxModel",
      "state": {
       "children": [
        "IPY_MODEL_256d6d40d5fb497da02f7c76b0062a5b",
        "IPY_MODEL_2ba4c9f8065641ecad6536f83acbf5b3",
        "IPY_MODEL_862719049e7a45baa8e61e365b0ec85d",
        "IPY_MODEL_6382a82d966b47a39221a29b04e033de"
       ],
       "layout": "IPY_MODEL_a4a8840e7c364ed99ceb21545a784bd8"
      }
     },
     "a4a8840e7c364ed99ceb21545a784bd8": {
      "model_module": "@jupyter-widgets/base",
      "model_module_version": "1.2.0",
      "model_name": "LayoutModel",
      "state": {}
     },
     "a7b039ea69274688ab965ca17eaa0f00": {
      "model_module": "@jupyter-widgets/controls",
      "model_module_version": "1.5.0",
      "model_name": "IntTextModel",
      "state": {
       "description": "Minimum",
       "layout": "IPY_MODEL_7b449d720b994859b79e4584b6589f64",
       "step": 1,
       "style": "IPY_MODEL_9bc2b671eafd4f82ab8ff031ace60ddb"
      }
     },
     "a8fb8a19b87e40cea30a867207eda5a8": {
      "model_module": "@jupyter-widgets/base",
      "model_module_version": "1.2.0",
      "model_name": "LayoutModel",
      "state": {}
     },
     "a93f380c4e7a4f7f8564616d3090ee18": {
      "model_module": "@jupyter-widgets/controls",
      "model_module_version": "1.5.0",
      "model_name": "HBoxModel",
      "state": {
       "children": [
        "IPY_MODEL_7d93e7080cd14acaa90c91cf995d067a",
        "IPY_MODEL_8bbe207fd7d4499baabc3ca2d74852a6"
       ],
       "layout": "IPY_MODEL_52cd76d8bc374bf0b879ed8bf472f0a8"
      }
     },
     "b51a8fe7cf2d4705965b3593da9d2603": {
      "model_module": "@jupyter-widgets/controls",
      "model_module_version": "1.5.0",
      "model_name": "DescriptionStyleModel",
      "state": {
       "description_width": ""
      }
     },
     "bb84c830848e4fd2bd2613a1f6885d01": {
      "model_module": "@jupyter-widgets/base",
      "model_module_version": "1.2.0",
      "model_name": "LayoutModel",
      "state": {}
     },
     "c33df53537a04458879d3dad0e2749a0": {
      "model_module": "@jupyter-widgets/controls",
      "model_module_version": "1.5.0",
      "model_name": "AccordionModel",
      "state": {
       "_titles": {
        "0": "Manual Scaling",
        "1": "Adaptive Scaling"
       },
       "children": [
        "IPY_MODEL_a93f380c4e7a4f7f8564616d3090ee18",
        "IPY_MODEL_61017ef1dc13421299e46e2f727b6ec0"
       ],
       "layout": "IPY_MODEL_6d47051582b34a26bd05dbe2fe9d144c",
       "selected_index": null
      }
     },
     "cc7c114c1c444f3c8a2e27abc2d01829": {
      "model_module": "@jupyter-widgets/base",
      "model_module_version": "1.2.0",
      "model_name": "LayoutModel",
      "state": {}
     },
     "d07029db3d3a44df872011a1409d9a92": {
      "model_module": "@jupyter-widgets/controls",
      "model_module_version": "1.5.0",
      "model_name": "DescriptionStyleModel",
      "state": {
       "description_width": ""
      }
     },
     "d9fc4c0d18474c6998394d80df62817d": {
      "model_module": "@jupyter-widgets/controls",
      "model_module_version": "1.5.0",
      "model_name": "DescriptionStyleModel",
      "state": {
       "description_width": ""
      }
     },
     "da256621987b4d5aa7406ec47516a3dd": {
      "model_module": "@jupyter-widgets/controls",
      "model_module_version": "1.5.0",
      "model_name": "IntTextModel",
      "state": {
       "description": "Maximum",
       "layout": "IPY_MODEL_7b449d720b994859b79e4584b6589f64",
       "step": 1,
       "style": "IPY_MODEL_b51a8fe7cf2d4705965b3593da9d2603"
      }
     },
     "e678d1aeafb5407e824fd233ac919c97": {
      "model_module": "@jupyter-widgets/controls",
      "model_module_version": "1.5.0",
      "model_name": "ButtonStyleModel",
      "state": {}
     }
    },
    "version_major": 2,
    "version_minor": 0
   }
  }
 },
 "nbformat": 4,
 "nbformat_minor": 5
}
