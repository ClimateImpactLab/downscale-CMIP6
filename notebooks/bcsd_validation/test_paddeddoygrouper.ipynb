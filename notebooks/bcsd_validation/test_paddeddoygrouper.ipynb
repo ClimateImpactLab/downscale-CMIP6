{
 "cells": [
  {
   "cell_type": "code",
   "execution_count": 1,
   "metadata": {},
   "outputs": [],
   "source": [
    "%matplotlib inline\n",
    "import xarray as xr\n",
    "import numpy as np \n",
    "import pandas as pd\n",
    "import matplotlib.pyplot as plt\n",
    "import os \n",
    "import scipy "
   ]
  },
  {
   "cell_type": "code",
   "execution_count": 3,
   "metadata": {},
   "outputs": [],
   "source": [
    "write_direc = '/gcs/rhg-data/climate/downscaled/workdir'"
   ]
  },
  {
   "cell_type": "code",
   "execution_count": 4,
   "metadata": {},
   "outputs": [],
   "source": [
    "from utils import get_sample_data"
   ]
  },
  {
   "cell_type": "code",
   "execution_count": 9,
   "metadata": {},
   "outputs": [],
   "source": [
    "# pip install git+https://github.com/dgergel/xsd.git@pointwisedownscaler_interimfix"
   ]
  },
  {
   "cell_type": "code",
   "execution_count": 10,
   "metadata": {},
   "outputs": [],
   "source": [
    "from skdownscale.pointwise_models import PaddedDOYGrouper"
   ]
  },
  {
   "cell_type": "code",
   "execution_count": 5,
   "metadata": {},
   "outputs": [],
   "source": [
    "training = get_sample_data('training')\n",
    "targets = get_sample_data('targets')\n",
    "\n",
    "train_slice = slice('1980-01-01', '1989-12-31')\n",
    "predict_slice = slice('1990-01-01', '1999-12-31')"
   ]
  },
  {
   "cell_type": "code",
   "execution_count": 6,
   "metadata": {},
   "outputs": [],
   "source": [
    "ds_training = training['tmax'][train_slice].to_xarray()\n",
    "ds_targets = targets['tmax'][train_slice].to_xarray()\n",
    "ds_predict = training['tmax'][predict_slice].to_xarray()"
   ]
  },
  {
   "cell_type": "markdown",
   "metadata": {},
   "source": [
    "apply `PaddedDOYGrouper` to get day groups"
   ]
  },
  {
   "cell_type": "code",
   "execution_count": 63,
   "metadata": {},
   "outputs": [],
   "source": [
    "day_groups = {}\n",
    "day_groups['targets'] = dict(list(PaddedDOYGrouper(targets['tmax'][train_slice])))\n",
    "day_groups['training'] = dict(list(PaddedDOYGrouper(training['tmax'][train_slice])))\n",
    "day_groups['predict'] = dict(list(PaddedDOYGrouper(training['tmax'][predict_slice])))"
   ]
  },
  {
   "cell_type": "markdown",
   "metadata": {},
   "source": [
    "use June 1st for example day group "
   ]
  },
  {
   "cell_type": "code",
   "execution_count": 64,
   "metadata": {},
   "outputs": [],
   "source": [
    "dayofyear = 152 # June 1st \n",
    "# doy_group = doy_group_list[dayofyear]"
   ]
  },
  {
   "cell_type": "markdown",
   "metadata": {},
   "source": [
    "build CDFs of obs, targets and future data "
   ]
  },
  {
   "cell_type": "code",
   "execution_count": 66,
   "metadata": {},
   "outputs": [],
   "source": [
    "def build_cdf(day_group_list, dayofyear, variable='tmax'): \n",
    "    df = day_group_list[dayofyear].to_frame()\n",
    "    \n",
    "    # create counts\n",
    "    df_stats = df.groupby(variable)[variable].agg('count').pipe(pd.DataFrame).rename(columns = {variable: 'frequency'})\n",
    "    \n",
    "    df_stats['pdf'] = df_stats['frequency'] / sum(df_stats['frequency'])\n",
    "    df_stats['cdf'] = df_stats['pdf'].cumsum()\n",
    "    df_stats = df_stats.reset_index()\n",
    "    \n",
    "    return df_stats"
   ]
  },
  {
   "cell_type": "code",
   "execution_count": 67,
   "metadata": {},
   "outputs": [],
   "source": [
    "df_stats = {}\n",
    "df_stats['targets'] = build_cdf(day_groups['targets'], dayofyear=dayofyear)\n",
    "df_stats['training'] = build_cdf(day_groups['training'], dayofyear=dayofyear)\n",
    "df_stats['predict'] = build_cdf(day_groups['predict'], dayofyear=dayofyear)"
   ]
  },
  {
   "cell_type": "code",
   "execution_count": 72,
   "metadata": {},
   "outputs": [
    {
     "data": {
      "text/plain": [
       "<AxesSubplot:xlabel='tmax'>"
      ]
     },
     "execution_count": 72,
     "metadata": {},
     "output_type": "execute_result"
    },
    {
     "data": {
      "image/png": "[encoded data removed]",
      "text/plain": [
       "<Figure size 504x360 with 1 Axes>"
      ]
     },
     "metadata": {
      "needs_background": "light"
     },
     "output_type": "display_data"
    }
   ],
   "source": [
    "fig, ax = plt.subplots(1, 1, figsize=(7, 5))\n",
    "df_stats['targets'].plot(x = 'tmax', y = ['cdf'], grid = True, ax=ax, label=['targets'])\n",
    "df_stats['training'].plot(x = 'tmax', y = ['cdf'], grid = True, ax=ax, label=['training'])\n",
    "df_stats['predict'].plot(x = 'tmax', y = ['cdf'], grid = True, ax=ax, label=['predict'])\n"
   ]
  },
  {
   "cell_type": "code",
   "execution_count": null,
   "metadata": {},
   "outputs": [],
   "source": [
    "norm_cdf = scipy.stats.norm.cdf(x) # calculate the cdf - also discrete"
   ]
  }
 ],
 "metadata": {
  "kernelspec": {
   "display_name": "Python 3",
   "language": "python",
   "name": "python3"
  },
  "language_info": {
   "codemirror_mode": {
    "name": "ipython",
    "version": 3
   },
   "file_extension": ".py",
   "mimetype": "text/x-python",
   "name": "python",
   "nbconvert_exporter": "python",
   "pygments_lexer": "ipython3",
   "version": "3.8.8"
  },
  "widgets": {
   "application/vnd.jupyter.widget-state+json": {
    "state": {},
    "version_major": 2,
    "version_minor": 0
   }
  }
 },
 "nbformat": 4,
 "nbformat_minor": 4
}
